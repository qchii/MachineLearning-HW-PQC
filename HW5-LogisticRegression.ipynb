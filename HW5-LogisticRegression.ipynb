{
 "cells": [
  {
   "cell_type": "code",
   "execution_count": 222,
   "id": "968dd111",
   "metadata": {},
   "outputs": [],
   "source": [
    "import numpy as np\n",
    "import pandas as pd\n",
    "import matplotlib.pyplot as plt"
   ]
  },
  {
   "cell_type": "markdown",
   "id": "9864d79e",
   "metadata": {},
   "source": [
    "### Exercise 2: Implement Logistic Regression"
   ]
  },
  {
   "cell_type": "code",
   "execution_count": 223,
   "id": "59778754",
   "metadata": {},
   "outputs": [],
   "source": [
    "class LogisticRegression:\n",
    "    def __init__(self, x, y):\n",
    "        self.intercept = np.ones((x.shape[0], 1))\n",
    "        self.x = np.concatenate((self.intercept, x), axis=1) #add column 1 to X\n",
    "        self.w = np.zeros(self.x.shape[1])\n",
    "        self.y = y\n",
    "        \n",
    "    #sigmoid func\n",
    "    def sigmoid(self, x, w):\n",
    "        z = x@w\n",
    "        return 1 / (1 + np.exp(-z))\n",
    "    \n",
    "    #Loss\n",
    "    def loss(self, y_hat, y):\n",
    "        return np.sum(-y * np.log(y_hat) - (1 - y) * np.log(1 - y_hat))\n",
    "    \n",
    "    #gradient descent\n",
    "    def gradient_descent(self, X, y_hat, y):\n",
    "        return (X.T@(y_hat - y)) / y.shape[0]\n",
    "    \n",
    "    def fit_logistic_regression(self, learning_rate, iterations):\n",
    "        for i in range(1, iterations):\n",
    "            sigma = self.sigmoid(self.x, self.w)\n",
    "            loss = self.loss(sigma, self.y)\n",
    "            dW = self.gradient_descent(self.x, sigma, self.y)\n",
    "            #update w\n",
    "            self.w = self.w - learning_rate * dW\n",
    "        return f\"Error: {loss}, Parameters: {self.w}\"\n",
    "    \n",
    "    def predict(self, x_new , tresh):\n",
    "        x_new = np.concatenate((self.intercept, x_new), axis=1)\n",
    "        result = self.sigmoid(x_new, self.w)\n",
    "        result = result >= tresh\n",
    "        y_pred = np.zeros(result.shape[0])\n",
    "        for i in range(len(y_pred)):\n",
    "            if result[i] == True: \n",
    "                y_pred[i] = 1\n",
    "            else:\n",
    "                continue\n",
    "                 \n",
    "        return y_pred\n",
    "    \n",
    "    def boundary(self, x_):\n",
    "        bound = -(self.w[0] + self.w[1]*x_)/self.w[2]\n",
    "        return bound\n",
    "    \n",
    "            \n",
    "        "
   ]
  },
  {
   "cell_type": "markdown",
   "id": "377e5d10",
   "metadata": {},
   "source": [
    "### Exercise 3: Vẽ boundary cho 2 class"
   ]
  },
  {
   "cell_type": "code",
   "execution_count": 224,
   "id": "d433d171",
   "metadata": {},
   "outputs": [
    {
     "data": {
      "text/html": [
       "<div>\n",
       "<style scoped>\n",
       "    .dataframe tbody tr th:only-of-type {\n",
       "        vertical-align: middle;\n",
       "    }\n",
       "\n",
       "    .dataframe tbody tr th {\n",
       "        vertical-align: top;\n",
       "    }\n",
       "\n",
       "    .dataframe thead th {\n",
       "        text-align: right;\n",
       "    }\n",
       "</style>\n",
       "<table border=\"1\" class=\"dataframe\">\n",
       "  <thead>\n",
       "    <tr style=\"text-align: right;\">\n",
       "      <th></th>\n",
       "      <th>Lương</th>\n",
       "      <th>Thời gian làm việc</th>\n",
       "      <th>Cho vay</th>\n",
       "    </tr>\n",
       "  </thead>\n",
       "  <tbody>\n",
       "    <tr>\n",
       "      <th>0</th>\n",
       "      <td>10</td>\n",
       "      <td>1.0</td>\n",
       "      <td>1</td>\n",
       "    </tr>\n",
       "    <tr>\n",
       "      <th>1</th>\n",
       "      <td>5</td>\n",
       "      <td>2.0</td>\n",
       "      <td>1</td>\n",
       "    </tr>\n",
       "    <tr>\n",
       "      <th>2</th>\n",
       "      <td>6</td>\n",
       "      <td>1.8</td>\n",
       "      <td>1</td>\n",
       "    </tr>\n",
       "    <tr>\n",
       "      <th>3</th>\n",
       "      <td>7</td>\n",
       "      <td>1.0</td>\n",
       "      <td>1</td>\n",
       "    </tr>\n",
       "    <tr>\n",
       "      <th>4</th>\n",
       "      <td>8</td>\n",
       "      <td>2.0</td>\n",
       "      <td>1</td>\n",
       "    </tr>\n",
       "  </tbody>\n",
       "</table>\n",
       "</div>"
      ],
      "text/plain": [
       "   Lương  Thời gian làm việc  Cho vay\n",
       "0     10                 1.0        1\n",
       "1      5                 2.0        1\n",
       "2      6                 1.8        1\n",
       "3      7                 1.0        1\n",
       "4      8                 2.0        1"
      ]
     },
     "execution_count": 224,
     "metadata": {},
     "output_type": "execute_result"
    }
   ],
   "source": [
    "data = pd.read_csv('https://raw.githubusercontent.com/nttuan8/DL_Tutorial/master/L2/dataset.csv')\n",
    "data.head()"
   ]
  },
  {
   "cell_type": "code",
   "execution_count": 225,
   "id": "74f2421c",
   "metadata": {},
   "outputs": [],
   "source": [
    "data = data.values"
   ]
  },
  {
   "cell_type": "code",
   "execution_count": 226,
   "id": "4a4f965d",
   "metadata": {},
   "outputs": [
    {
     "data": {
      "text/plain": [
       "'Error: 4.681064880388028, Parameters: [-4.57355133  0.3292139   2.81813478]'"
      ]
     },
     "execution_count": 226,
     "metadata": {},
     "output_type": "execute_result"
    }
   ],
   "source": [
    "x = data[:,0:2]\n",
    "y = data[:,2]\n",
    "L = LogisticRegression(x,y)\n",
    "L.fit_logistic_regression(0.1, 1000)"
   ]
  },
  {
   "cell_type": "code",
   "execution_count": 227,
   "id": "efe9171a",
   "metadata": {},
   "outputs": [
    {
     "name": "stdout",
     "output_type": "stream",
     "text": [
      "accuracy: 0.95\n"
     ]
    }
   ],
   "source": [
    "y_pred = L.predict(x, 0.5)\n",
    "accuracy = sum(y_pred == y) / y.shape[0]\n",
    "print(f'accuracy: {accuracy}')"
   ]
  },
  {
   "cell_type": "code",
   "execution_count": 228,
   "id": "2508f492",
   "metadata": {},
   "outputs": [],
   "source": [
    "#x trong hai TH y = 1 va y = 0\n",
    "x_cho_vay = x[y==1]\n",
    "x_tu_choi = x[y==0]"
   ]
  },
  {
   "cell_type": "code",
   "execution_count": 229,
   "id": "9376ae98",
   "metadata": {},
   "outputs": [
    {
     "data": {
      "image/png": "[encoded data removed]",
      "text/plain": [
       "<Figure size 432x288 with 1 Axes>"
      ]
     },
     "metadata": {
      "needs_background": "light"
     },
     "output_type": "display_data"
    }
   ],
   "source": [
    "plt.scatter(x_cho_vay[:, 0], x_cho_vay[:, 1], c='pink', label='Cho vay')\n",
    "plt.scatter(x_tu_choi[:, 0], x_tu_choi[:, 1], c='yellow', label='Từ chối')\n",
    "            #x[:,0]: Lương    #x[:,1]: Tgian làm\n",
    "plt.legend(loc='upper right')\n",
    "plt.xlabel('Lương (triệu)')\n",
    "plt.ylabel('Thời gian làm (năm)')\n",
    "plt.plot((4, 10), (L.boundary(4), L.boundary(10)), c='gray')\n",
    "plt.show()"
   ]
  },
  {
   "cell_type": "code",
   "execution_count": null,
   "id": "d2605f19",
   "metadata": {},
   "outputs": [],
   "source": []
  }
 ],
 "metadata": {
  "kernelspec": {
   "display_name": "Python 3",
   "language": "python",
   "name": "python3"
  },
  "language_info": {
   "codemirror_mode": {
    "name": "ipython",
    "version": 3
   },
   "file_extension": ".py",
   "mimetype": "text/x-python",
   "name": "python",
   "nbconvert_exporter": "python",
   "pygments_lexer": "ipython3",
   "version": "3.8.8"
  }
 },
 "nbformat": 4,
 "nbformat_minor": 5
}
